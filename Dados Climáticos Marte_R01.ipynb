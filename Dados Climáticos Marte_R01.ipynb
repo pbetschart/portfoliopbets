{
  "nbformat": 4,
  "nbformat_minor": 0,
  "metadata": {
    "colab": {
      "name": "REMS_R01.ipynb",
      "provenance": [],
      "collapsed_sections": [
        "KdLSqONAOWEb",
        "UVOYsHAiJZsf"
      ],
      "authorship_tag": "ABX9TyP5pYKwI7vUOOzm/+LS0Ssn",
      "include_colab_link": true
    },
    "kernelspec": {
      "name": "python3",
      "display_name": "Python 3"
    }
  },
  "cells": [
    {
      "cell_type": "markdown",
      "metadata": {
        "id": "view-in-github",
        "colab_type": "text"
      },
      "source": [
        "<a href=\"https://colab.research.google.com/github/pbetschart/portfoliopbetschart/blob/master/Dados%20Clim%C3%A1ticos%20Marte_R01.ipynb\" target=\"_parent\"><img src=\"https://colab.research.google.com/assets/colab-badge.svg\" alt=\"Open In Colab\"/></a>"
      ]
    },
    {
      "cell_type": "markdown",
      "metadata": {
        "id": "h2N25zGxVLOk"
      },
      "source": [
        "<p align=\"center\"><img src=\"https://raw.githubusercontent.com/pbetschart/portfoliopbetschart/master/Helvetia-Go.png\" height=\"150px\"></p>\n",
        "\n",
        "<p align=\"center\"> by Eng. Paulo Fernando Betschart "
      ]
    },
    {
      "cell_type": "markdown",
      "metadata": {
        "id": "P8szkVuS-7ve"
      },
      "source": [
        "# Introdução"
      ]
    },
    {
      "cell_type": "markdown",
      "metadata": {
        "id": "goWGHbzWrrmn"
      },
      "source": [
        "## Alô alô, marciano! - Uma Análise Exploratória do Planeta Vermelho\n",
        "\n",
        "> _\"Alô, alô, marciano,\n",
        "aqui quem fala é da Terra /\n",
        "Pra variar estamos em guerra\"_\n",
        "\n",
        "Os versos eternizados na voz de Elis Regina podem cair de novo na boca dos nossos netos, segundo a Nasa.\n",
        "\n",
        "Brincadeiras a parte, Marte está no alvo da agência para missões tripuladas. Ainda que agora pareça filme de ficção científica, os passos estão sendo dados.\n",
        "E, no setor aeroespacial, passos costumam ser sinônimo de altos investimentos (de $$ e de tempo).\n",
        "Portanto, vale a pena acompanhar o que nossa geração está descobrindo - sim, já somos privilegiados por presenciarmos diversas inovações neste tema.\n",
        "\n",
        "Marte é interessante sob diversos pontos de vista para nós aqui da Terra. \n",
        "A primeira é pelas possíveis semelhanças entre o nosso planeta azul e o planeta vermelho.\n",
        "As investigações atuais vão na linha da existência de vida microbiana em Marte (semelhante a Terra).\n",
        "O que levanta a pergunta: por que a vida - como a entendemos por aqui - na Terra se desenvolveu e em Marte não prosperou da mesma forma?\n",
        "Quais as condições em que isso se deu ao longo do tempo e se desenrola hoje?\n",
        "\n",
        "O *rover Perseverance* foi atrás de provas de que há vida microbiana em Marte. Ele se junta (apesar de não se encontrarem) ao *Curiosity*, em operação desde 2012.\n",
        "\n",
        "Naturalmente o tema do envio de humanos para Marte está sempre em alta. Para entendermos o contexto, vale citar que a Lua seria um ponto de parada (o que está sendo investigado na *Missão Artemis*) para que decolagens pudessem ser feitas de lá até Marte (devido ao tempo da viagem entre os dois planetas).\n",
        "\n",
        "Exercícios de futurologia a postos, vale a pena explorarmos os primeiros dados coletados diretamente de Marte pelo *rover Curiosity*.\n",
        "Esta primeira análise nos sensibilizará para acompanharmos as próximas descobertas com a chegada do *Perseverance*.\n",
        "\n",
        "\n"
      ]
    },
    {
      "cell_type": "markdown",
      "metadata": {
        "id": "XGl5_Yah1v1T"
      },
      "source": [
        "## Obtenção dos Dados\n",
        "\n",
        "O robô _Curiosity_ é fruto da parceria de diversos institutos e países.\n",
        "O instrumento REMS (*Rover Environmental Monitoring Station*), que coleta dos dados climáticos em torno do *rover*, é de desenvolvimento do Centro de Astrobiologia (CSIC-INTA), na Espanha, tendo Javier Gómez-Elvira como seu principal pesquisador.\n",
        "\n",
        "Esta estação embarcada no *rover* captura os dados de:\n",
        "1. velocidade do vento;\n",
        "2. temperatura;\n",
        "3. umidade relativa do ar;\n",
        "4. pressão atmosférica;\n",
        "5. nível de radiação ultravioleta que penetra a atmofera marciana.\n",
        "\n",
        "Para conhecer um pouco da tecnologia empregada no _REMS_, expliquei [neste link](https://helvet.io/portfolio/marsclimate/).\n",
        "\n",
        "O _dataset_ utilizado neste projeto se encontra [neste link](https://query.data.world/s/dexzg5hk3y2rykhhfar6raoqgybzyi).\n",
        "\n"
      ]
    },
    {
      "cell_type": "markdown",
      "metadata": {
        "id": "6cwMSxs8JAc4"
      },
      "source": [
        "## Legenda para as Variáveis do _Dataset_\n",
        "\n",
        "A partir do _dataset_ que será trabalhado a seguir, vamos legendar as colunas para facilitar o entendimento:\n",
        "\n",
        "* `id`: código da transmissão do dado;\n",
        "* `terrestrial_date`: dia, mês e ano correspondente a Terra;\n",
        "* `sol`: contagem dos dias em Marte;\n",
        "* `ls`: longitude solar\n",
        "* `month`: mês em Marte. Semelhante a Terra, em Marte pode ser organizado em 12 meses;\n",
        "* `min_temp`: temperatura mínima medida pelo Curiosity em um dia (em ºC);\n",
        "* `max_temp`: temperatura máxima medida pelo Curiosity em um dia (em ºC);\n",
        "* `pressure`: pressão atmosférica medida pelo Curiosity em um dia (em Pa);\n",
        "* `wind_speed`: velocidade do vento medida pelo Curiosity (em m/s);\n",
        "* `atmo_opacity`: breve descrição das condições metereológicas em um dia em Marte.\n",
        "\n",
        "Observe que este _dataset_ não disponibiliza **todas** as variáveis mensuradas pelo _REMS_."
      ]
    },
    {
      "cell_type": "markdown",
      "metadata": {
        "id": "-26Zr4nzzglU"
      },
      "source": [
        "# Objetivo:\n",
        "\n",
        "Neste _notebook_ o objetivo é:\n",
        "\n",
        "1. A partir do _dataset_ disponibilizado pela NASA, realizar a limpeza dos dados;\n",
        "2. Executar uma análise exploratória dos dados coletados pelo *rover Curiosity*;\n",
        "3. Visualizar os dados das temperaturas medidas, velocidade do vento e da pressão atmosférica.\n",
        "\n",
        "\n"
      ]
    },
    {
      "cell_type": "markdown",
      "metadata": {
        "id": "94zVywzQJF7Z"
      },
      "source": [
        "# Análise Inicial"
      ]
    },
    {
      "cell_type": "code",
      "metadata": {
        "id": "HecpwBXaNDP5",
        "colab": {
          "base_uri": "https://localhost:8080/",
          "height": 204
        },
        "outputId": "b77dc168-f2cc-4406-a7e8-1089be428a1e"
      },
      "source": [
        "# importando as bibliotecas\n",
        "\n",
        "import pandas as pd\n",
        "import numpy as np\n",
        "import matplotlib.pyplot as plt\n",
        "import seaborn as sns\n",
        "\n",
        "# configurando o notebook:\n",
        "sns.set_style()\n",
        "\n",
        "# Importando os dados:\n",
        "df_orig = pd.read_csv('https://query.data.world/s/dexzg5hk3y2rykhhfar6raoqgybzyi')\n",
        "\n",
        "# Verificando as 5 primeiras linhas:\n",
        "df_orig.head()"
      ],
      "execution_count": null,
      "outputs": [
        {
          "output_type": "execute_result",
          "data": {
            "text/html": [
              "<div>\n",
              "<style scoped>\n",
              "    .dataframe tbody tr th:only-of-type {\n",
              "        vertical-align: middle;\n",
              "    }\n",
              "\n",
              "    .dataframe tbody tr th {\n",
              "        vertical-align: top;\n",
              "    }\n",
              "\n",
              "    .dataframe thead th {\n",
              "        text-align: right;\n",
              "    }\n",
              "</style>\n",
              "<table border=\"1\" class=\"dataframe\">\n",
              "  <thead>\n",
              "    <tr style=\"text-align: right;\">\n",
              "      <th></th>\n",
              "      <th>id</th>\n",
              "      <th>terrestrial_date</th>\n",
              "      <th>sol</th>\n",
              "      <th>ls</th>\n",
              "      <th>month</th>\n",
              "      <th>min_temp</th>\n",
              "      <th>max_temp</th>\n",
              "      <th>pressure</th>\n",
              "      <th>wind_speed</th>\n",
              "      <th>atmo_opacity</th>\n",
              "    </tr>\n",
              "  </thead>\n",
              "  <tbody>\n",
              "    <tr>\n",
              "      <th>0</th>\n",
              "      <td>1895</td>\n",
              "      <td>2018-02-27</td>\n",
              "      <td>1977</td>\n",
              "      <td>135</td>\n",
              "      <td>Month 5</td>\n",
              "      <td>-77.0</td>\n",
              "      <td>-10.0</td>\n",
              "      <td>727.0</td>\n",
              "      <td>NaN</td>\n",
              "      <td>Sunny</td>\n",
              "    </tr>\n",
              "    <tr>\n",
              "      <th>1</th>\n",
              "      <td>1893</td>\n",
              "      <td>2018-02-26</td>\n",
              "      <td>1976</td>\n",
              "      <td>135</td>\n",
              "      <td>Month 5</td>\n",
              "      <td>-77.0</td>\n",
              "      <td>-10.0</td>\n",
              "      <td>728.0</td>\n",
              "      <td>NaN</td>\n",
              "      <td>Sunny</td>\n",
              "    </tr>\n",
              "    <tr>\n",
              "      <th>2</th>\n",
              "      <td>1894</td>\n",
              "      <td>2018-02-25</td>\n",
              "      <td>1975</td>\n",
              "      <td>134</td>\n",
              "      <td>Month 5</td>\n",
              "      <td>-76.0</td>\n",
              "      <td>-16.0</td>\n",
              "      <td>729.0</td>\n",
              "      <td>NaN</td>\n",
              "      <td>Sunny</td>\n",
              "    </tr>\n",
              "    <tr>\n",
              "      <th>3</th>\n",
              "      <td>1892</td>\n",
              "      <td>2018-02-24</td>\n",
              "      <td>1974</td>\n",
              "      <td>134</td>\n",
              "      <td>Month 5</td>\n",
              "      <td>-77.0</td>\n",
              "      <td>-13.0</td>\n",
              "      <td>729.0</td>\n",
              "      <td>NaN</td>\n",
              "      <td>Sunny</td>\n",
              "    </tr>\n",
              "    <tr>\n",
              "      <th>4</th>\n",
              "      <td>1889</td>\n",
              "      <td>2018-02-23</td>\n",
              "      <td>1973</td>\n",
              "      <td>133</td>\n",
              "      <td>Month 5</td>\n",
              "      <td>-78.0</td>\n",
              "      <td>-18.0</td>\n",
              "      <td>730.0</td>\n",
              "      <td>NaN</td>\n",
              "      <td>Sunny</td>\n",
              "    </tr>\n",
              "  </tbody>\n",
              "</table>\n",
              "</div>"
            ],
            "text/plain": [
              "     id terrestrial_date   sol  ...  pressure wind_speed  atmo_opacity\n",
              "0  1895       2018-02-27  1977  ...     727.0        NaN         Sunny\n",
              "1  1893       2018-02-26  1976  ...     728.0        NaN         Sunny\n",
              "2  1894       2018-02-25  1975  ...     729.0        NaN         Sunny\n",
              "3  1892       2018-02-24  1974  ...     729.0        NaN         Sunny\n",
              "4  1889       2018-02-23  1973  ...     730.0        NaN         Sunny\n",
              "\n",
              "[5 rows x 10 columns]"
            ]
          },
          "metadata": {
            "tags": []
          },
          "execution_count": 1
        }
      ]
    },
    {
      "cell_type": "markdown",
      "metadata": {
        "id": "HhXGV-h2iibg"
      },
      "source": [
        "Após uma primeira observação do _dataset_, pretendemos de início tornar a data (`terrestrial_date`) como index do _DataFrame_.\n",
        "Assim vamos gerar, a partir do mesmo arquivo `.csv`, o `df_data`."
      ]
    },
    {
      "cell_type": "code",
      "metadata": {
        "id": "jmYEpc7tgZ9k",
        "colab": {
          "base_uri": "https://localhost:8080/",
          "height": 235
        },
        "outputId": "67abe81b-beb1-45af-81fe-5caa514919b8"
      },
      "source": [
        "# tornando a coluna \"terrestrial_date\" em index\n",
        "\n",
        "df_data = pd.read_csv(\"https://query.data.world/s/dexzg5hk3y2rykhhfar6raoqgybzyi\", index_col=\"terrestrial_date\", parse_dates=True)\n",
        "df_data.head()"
      ],
      "execution_count": null,
      "outputs": [
        {
          "output_type": "execute_result",
          "data": {
            "text/html": [
              "<div>\n",
              "<style scoped>\n",
              "    .dataframe tbody tr th:only-of-type {\n",
              "        vertical-align: middle;\n",
              "    }\n",
              "\n",
              "    .dataframe tbody tr th {\n",
              "        vertical-align: top;\n",
              "    }\n",
              "\n",
              "    .dataframe thead th {\n",
              "        text-align: right;\n",
              "    }\n",
              "</style>\n",
              "<table border=\"1\" class=\"dataframe\">\n",
              "  <thead>\n",
              "    <tr style=\"text-align: right;\">\n",
              "      <th></th>\n",
              "      <th>id</th>\n",
              "      <th>sol</th>\n",
              "      <th>ls</th>\n",
              "      <th>month</th>\n",
              "      <th>min_temp</th>\n",
              "      <th>max_temp</th>\n",
              "      <th>pressure</th>\n",
              "      <th>wind_speed</th>\n",
              "      <th>atmo_opacity</th>\n",
              "    </tr>\n",
              "    <tr>\n",
              "      <th>terrestrial_date</th>\n",
              "      <th></th>\n",
              "      <th></th>\n",
              "      <th></th>\n",
              "      <th></th>\n",
              "      <th></th>\n",
              "      <th></th>\n",
              "      <th></th>\n",
              "      <th></th>\n",
              "      <th></th>\n",
              "    </tr>\n",
              "  </thead>\n",
              "  <tbody>\n",
              "    <tr>\n",
              "      <th>2018-02-27</th>\n",
              "      <td>1895</td>\n",
              "      <td>1977</td>\n",
              "      <td>135</td>\n",
              "      <td>Month 5</td>\n",
              "      <td>-77.0</td>\n",
              "      <td>-10.0</td>\n",
              "      <td>727.0</td>\n",
              "      <td>NaN</td>\n",
              "      <td>Sunny</td>\n",
              "    </tr>\n",
              "    <tr>\n",
              "      <th>2018-02-26</th>\n",
              "      <td>1893</td>\n",
              "      <td>1976</td>\n",
              "      <td>135</td>\n",
              "      <td>Month 5</td>\n",
              "      <td>-77.0</td>\n",
              "      <td>-10.0</td>\n",
              "      <td>728.0</td>\n",
              "      <td>NaN</td>\n",
              "      <td>Sunny</td>\n",
              "    </tr>\n",
              "    <tr>\n",
              "      <th>2018-02-25</th>\n",
              "      <td>1894</td>\n",
              "      <td>1975</td>\n",
              "      <td>134</td>\n",
              "      <td>Month 5</td>\n",
              "      <td>-76.0</td>\n",
              "      <td>-16.0</td>\n",
              "      <td>729.0</td>\n",
              "      <td>NaN</td>\n",
              "      <td>Sunny</td>\n",
              "    </tr>\n",
              "    <tr>\n",
              "      <th>2018-02-24</th>\n",
              "      <td>1892</td>\n",
              "      <td>1974</td>\n",
              "      <td>134</td>\n",
              "      <td>Month 5</td>\n",
              "      <td>-77.0</td>\n",
              "      <td>-13.0</td>\n",
              "      <td>729.0</td>\n",
              "      <td>NaN</td>\n",
              "      <td>Sunny</td>\n",
              "    </tr>\n",
              "    <tr>\n",
              "      <th>2018-02-23</th>\n",
              "      <td>1889</td>\n",
              "      <td>1973</td>\n",
              "      <td>133</td>\n",
              "      <td>Month 5</td>\n",
              "      <td>-78.0</td>\n",
              "      <td>-18.0</td>\n",
              "      <td>730.0</td>\n",
              "      <td>NaN</td>\n",
              "      <td>Sunny</td>\n",
              "    </tr>\n",
              "  </tbody>\n",
              "</table>\n",
              "</div>"
            ],
            "text/plain": [
              "                    id   sol   ls  ... pressure  wind_speed  atmo_opacity\n",
              "terrestrial_date                   ...                                   \n",
              "2018-02-27        1895  1977  135  ...    727.0         NaN         Sunny\n",
              "2018-02-26        1893  1976  135  ...    728.0         NaN         Sunny\n",
              "2018-02-25        1894  1975  134  ...    729.0         NaN         Sunny\n",
              "2018-02-24        1892  1974  134  ...    729.0         NaN         Sunny\n",
              "2018-02-23        1889  1973  133  ...    730.0         NaN         Sunny\n",
              "\n",
              "[5 rows x 9 columns]"
            ]
          },
          "metadata": {
            "tags": []
          },
          "execution_count": 2
        }
      ]
    },
    {
      "cell_type": "code",
      "metadata": {
        "id": "kyHQ7m89hZTn",
        "colab": {
          "base_uri": "https://localhost:8080/"
        },
        "outputId": "eb233c03-55ea-4784-94d7-3f7714e7503d"
      },
      "source": [
        "# conferindo o formato do Index do DateFrame\n",
        "df_data.index"
      ],
      "execution_count": null,
      "outputs": [
        {
          "output_type": "execute_result",
          "data": {
            "text/plain": [
              "DatetimeIndex(['2018-02-27', '2018-02-26', '2018-02-25', '2018-02-24',\n",
              "               '2018-02-23', '2018-02-22', '2018-02-21', '2018-02-20',\n",
              "               '2018-02-19', '2018-02-18',\n",
              "               ...\n",
              "               '2012-08-23', '2012-08-22', '2012-08-21', '2012-08-20',\n",
              "               '2012-08-19', '2012-08-18', '2012-08-17', '2012-08-16',\n",
              "               '2012-08-15', '2012-08-07'],\n",
              "              dtype='datetime64[ns]', name='terrestrial_date', length=1894, freq=None)"
            ]
          },
          "metadata": {
            "tags": []
          },
          "execution_count": 3
        }
      ]
    },
    {
      "cell_type": "code",
      "metadata": {
        "id": "wi_D3EwA8YN1",
        "colab": {
          "base_uri": "https://localhost:8080/",
          "height": 286
        },
        "outputId": "3c3693a0-98dc-4988-eec2-1146258c2818"
      },
      "source": [
        "# verificando as dimensões\n",
        "print('Dimensões do Dataset',\n",
        "    '\\nVariáveis: ',df_data.shape[1], \"\\n\"\n",
        "      'Entradas: ', df_data.shape[0])\n",
        "\n",
        "# verificando as primeiras entradas\n",
        "df_data.head()"
      ],
      "execution_count": null,
      "outputs": [
        {
          "output_type": "stream",
          "text": [
            "Dimensões do Dataset \n",
            "Variáveis:  9 \n",
            "Entradas:  1894\n"
          ],
          "name": "stdout"
        },
        {
          "output_type": "execute_result",
          "data": {
            "text/html": [
              "<div>\n",
              "<style scoped>\n",
              "    .dataframe tbody tr th:only-of-type {\n",
              "        vertical-align: middle;\n",
              "    }\n",
              "\n",
              "    .dataframe tbody tr th {\n",
              "        vertical-align: top;\n",
              "    }\n",
              "\n",
              "    .dataframe thead th {\n",
              "        text-align: right;\n",
              "    }\n",
              "</style>\n",
              "<table border=\"1\" class=\"dataframe\">\n",
              "  <thead>\n",
              "    <tr style=\"text-align: right;\">\n",
              "      <th></th>\n",
              "      <th>id</th>\n",
              "      <th>sol</th>\n",
              "      <th>ls</th>\n",
              "      <th>month</th>\n",
              "      <th>min_temp</th>\n",
              "      <th>max_temp</th>\n",
              "      <th>pressure</th>\n",
              "      <th>wind_speed</th>\n",
              "      <th>atmo_opacity</th>\n",
              "    </tr>\n",
              "    <tr>\n",
              "      <th>terrestrial_date</th>\n",
              "      <th></th>\n",
              "      <th></th>\n",
              "      <th></th>\n",
              "      <th></th>\n",
              "      <th></th>\n",
              "      <th></th>\n",
              "      <th></th>\n",
              "      <th></th>\n",
              "      <th></th>\n",
              "    </tr>\n",
              "  </thead>\n",
              "  <tbody>\n",
              "    <tr>\n",
              "      <th>2018-02-27</th>\n",
              "      <td>1895</td>\n",
              "      <td>1977</td>\n",
              "      <td>135</td>\n",
              "      <td>Month 5</td>\n",
              "      <td>-77.0</td>\n",
              "      <td>-10.0</td>\n",
              "      <td>727.0</td>\n",
              "      <td>NaN</td>\n",
              "      <td>Sunny</td>\n",
              "    </tr>\n",
              "    <tr>\n",
              "      <th>2018-02-26</th>\n",
              "      <td>1893</td>\n",
              "      <td>1976</td>\n",
              "      <td>135</td>\n",
              "      <td>Month 5</td>\n",
              "      <td>-77.0</td>\n",
              "      <td>-10.0</td>\n",
              "      <td>728.0</td>\n",
              "      <td>NaN</td>\n",
              "      <td>Sunny</td>\n",
              "    </tr>\n",
              "    <tr>\n",
              "      <th>2018-02-25</th>\n",
              "      <td>1894</td>\n",
              "      <td>1975</td>\n",
              "      <td>134</td>\n",
              "      <td>Month 5</td>\n",
              "      <td>-76.0</td>\n",
              "      <td>-16.0</td>\n",
              "      <td>729.0</td>\n",
              "      <td>NaN</td>\n",
              "      <td>Sunny</td>\n",
              "    </tr>\n",
              "    <tr>\n",
              "      <th>2018-02-24</th>\n",
              "      <td>1892</td>\n",
              "      <td>1974</td>\n",
              "      <td>134</td>\n",
              "      <td>Month 5</td>\n",
              "      <td>-77.0</td>\n",
              "      <td>-13.0</td>\n",
              "      <td>729.0</td>\n",
              "      <td>NaN</td>\n",
              "      <td>Sunny</td>\n",
              "    </tr>\n",
              "    <tr>\n",
              "      <th>2018-02-23</th>\n",
              "      <td>1889</td>\n",
              "      <td>1973</td>\n",
              "      <td>133</td>\n",
              "      <td>Month 5</td>\n",
              "      <td>-78.0</td>\n",
              "      <td>-18.0</td>\n",
              "      <td>730.0</td>\n",
              "      <td>NaN</td>\n",
              "      <td>Sunny</td>\n",
              "    </tr>\n",
              "  </tbody>\n",
              "</table>\n",
              "</div>"
            ],
            "text/plain": [
              "                    id   sol   ls  ... pressure  wind_speed  atmo_opacity\n",
              "terrestrial_date                   ...                                   \n",
              "2018-02-27        1895  1977  135  ...    727.0         NaN         Sunny\n",
              "2018-02-26        1893  1976  135  ...    728.0         NaN         Sunny\n",
              "2018-02-25        1894  1975  134  ...    729.0         NaN         Sunny\n",
              "2018-02-24        1892  1974  134  ...    729.0         NaN         Sunny\n",
              "2018-02-23        1889  1973  133  ...    730.0         NaN         Sunny\n",
              "\n",
              "[5 rows x 9 columns]"
            ]
          },
          "metadata": {
            "tags": []
          },
          "execution_count": 4
        }
      ]
    },
    {
      "cell_type": "code",
      "metadata": {
        "id": "KxI6pnpSQElZ",
        "colab": {
          "base_uri": "https://localhost:8080/",
          "height": 235
        },
        "outputId": "0f089238-68f4-4b7d-eb95-39e3b0ea4434"
      },
      "source": [
        "# verificando as 5 últimas linhas:\n",
        "df_data.tail()"
      ],
      "execution_count": null,
      "outputs": [
        {
          "output_type": "execute_result",
          "data": {
            "text/html": [
              "<div>\n",
              "<style scoped>\n",
              "    .dataframe tbody tr th:only-of-type {\n",
              "        vertical-align: middle;\n",
              "    }\n",
              "\n",
              "    .dataframe tbody tr th {\n",
              "        vertical-align: top;\n",
              "    }\n",
              "\n",
              "    .dataframe thead th {\n",
              "        text-align: right;\n",
              "    }\n",
              "</style>\n",
              "<table border=\"1\" class=\"dataframe\">\n",
              "  <thead>\n",
              "    <tr style=\"text-align: right;\">\n",
              "      <th></th>\n",
              "      <th>id</th>\n",
              "      <th>sol</th>\n",
              "      <th>ls</th>\n",
              "      <th>month</th>\n",
              "      <th>min_temp</th>\n",
              "      <th>max_temp</th>\n",
              "      <th>pressure</th>\n",
              "      <th>wind_speed</th>\n",
              "      <th>atmo_opacity</th>\n",
              "    </tr>\n",
              "    <tr>\n",
              "      <th>terrestrial_date</th>\n",
              "      <th></th>\n",
              "      <th></th>\n",
              "      <th></th>\n",
              "      <th></th>\n",
              "      <th></th>\n",
              "      <th></th>\n",
              "      <th></th>\n",
              "      <th></th>\n",
              "      <th></th>\n",
              "    </tr>\n",
              "  </thead>\n",
              "  <tbody>\n",
              "    <tr>\n",
              "      <th>2012-08-18</th>\n",
              "      <td>24</td>\n",
              "      <td>12</td>\n",
              "      <td>156</td>\n",
              "      <td>Month 6</td>\n",
              "      <td>-76.0</td>\n",
              "      <td>-18.0</td>\n",
              "      <td>741.0</td>\n",
              "      <td>NaN</td>\n",
              "      <td>Sunny</td>\n",
              "    </tr>\n",
              "    <tr>\n",
              "      <th>2012-08-17</th>\n",
              "      <td>13</td>\n",
              "      <td>11</td>\n",
              "      <td>156</td>\n",
              "      <td>Month 6</td>\n",
              "      <td>-76.0</td>\n",
              "      <td>-11.0</td>\n",
              "      <td>740.0</td>\n",
              "      <td>NaN</td>\n",
              "      <td>Sunny</td>\n",
              "    </tr>\n",
              "    <tr>\n",
              "      <th>2012-08-16</th>\n",
              "      <td>2</td>\n",
              "      <td>10</td>\n",
              "      <td>155</td>\n",
              "      <td>Month 6</td>\n",
              "      <td>-75.0</td>\n",
              "      <td>-16.0</td>\n",
              "      <td>739.0</td>\n",
              "      <td>NaN</td>\n",
              "      <td>Sunny</td>\n",
              "    </tr>\n",
              "    <tr>\n",
              "      <th>2012-08-15</th>\n",
              "      <td>232</td>\n",
              "      <td>9</td>\n",
              "      <td>155</td>\n",
              "      <td>Month 6</td>\n",
              "      <td>NaN</td>\n",
              "      <td>NaN</td>\n",
              "      <td>NaN</td>\n",
              "      <td>NaN</td>\n",
              "      <td>Sunny</td>\n",
              "    </tr>\n",
              "    <tr>\n",
              "      <th>2012-08-07</th>\n",
              "      <td>1</td>\n",
              "      <td>1</td>\n",
              "      <td>150</td>\n",
              "      <td>Month 6</td>\n",
              "      <td>NaN</td>\n",
              "      <td>NaN</td>\n",
              "      <td>NaN</td>\n",
              "      <td>NaN</td>\n",
              "      <td>Sunny</td>\n",
              "    </tr>\n",
              "  </tbody>\n",
              "</table>\n",
              "</div>"
            ],
            "text/plain": [
              "                   id  sol   ls  ... pressure  wind_speed  atmo_opacity\n",
              "terrestrial_date                 ...                                   \n",
              "2012-08-18         24   12  156  ...    741.0         NaN         Sunny\n",
              "2012-08-17         13   11  156  ...    740.0         NaN         Sunny\n",
              "2012-08-16          2   10  155  ...    739.0         NaN         Sunny\n",
              "2012-08-15        232    9  155  ...      NaN         NaN         Sunny\n",
              "2012-08-07          1    1  150  ...      NaN         NaN         Sunny\n",
              "\n",
              "[5 rows x 9 columns]"
            ]
          },
          "metadata": {
            "tags": []
          },
          "execution_count": 5
        }
      ]
    },
    {
      "cell_type": "markdown",
      "metadata": {
        "id": "N9WU-qU6YrWC"
      },
      "source": [
        "Aqui, ao acessar as 5 primeiras linhas e as 5 últimas linhas e o formato, já observamos que os registros estão em ordem cronológica, sendo o dado mais antigo obtido em 7 de agosto de 2012 e o mais recente a compor este _dataset_ é de 27 de fevereiro de 2018."
      ]
    },
    {
      "cell_type": "code",
      "metadata": {
        "id": "UOS9lAav4_xz",
        "colab": {
          "base_uri": "https://localhost:8080/"
        },
        "outputId": "0887cab2-9b10-4634-f55b-420b567646ca"
      },
      "source": [
        "# verificando o nome das colunas:\n",
        "print (\"As colunas contidas neste dataset são:\", df_data.columns)"
      ],
      "execution_count": null,
      "outputs": [
        {
          "output_type": "stream",
          "text": [
            "As colunas contidas neste dataset são: Index(['id', 'sol', 'ls', 'month', 'min_temp', 'max_temp', 'pressure',\n",
            "       'wind_speed', 'atmo_opacity'],\n",
            "      dtype='object')\n"
          ],
          "name": "stdout"
        }
      ]
    },
    {
      "cell_type": "code",
      "metadata": {
        "id": "o7n5Zfwd-7JH",
        "colab": {
          "base_uri": "https://localhost:8080/"
        },
        "outputId": "c71e1cd8-f3f7-4934-c5ca-58d1a2d7ee9a"
      },
      "source": [
        "# verificando o tipo de cada coluna (obs.: o Pandas aplica o formato \"floats\" quando há dados ausentes)\n",
        "df_data.dtypes"
      ],
      "execution_count": null,
      "outputs": [
        {
          "output_type": "execute_result",
          "data": {
            "text/plain": [
              "id                int64\n",
              "sol               int64\n",
              "ls                int64\n",
              "month            object\n",
              "min_temp        float64\n",
              "max_temp        float64\n",
              "pressure        float64\n",
              "wind_speed      float64\n",
              "atmo_opacity     object\n",
              "dtype: object"
            ]
          },
          "metadata": {
            "tags": []
          },
          "execution_count": 36
        }
      ]
    },
    {
      "cell_type": "markdown",
      "metadata": {
        "id": "KdLSqONAOWEb"
      },
      "source": [
        "### Valores Ausentes\n",
        "\n",
        "Além de identificar e quantificar os valores ausentes, aqui se dará o tratamento a estes dados."
      ]
    },
    {
      "cell_type": "code",
      "metadata": {
        "id": "gVjn6ockCnOD",
        "colab": {
          "base_uri": "https://localhost:8080/"
        },
        "outputId": "3fb393bd-6a4b-4415-b1a6-cb67dba6af5c"
      },
      "source": [
        "# verificando a quantidade de valores ausentes de cada coluna, ordenando primeiro quem apresenta maior quantidade de valores ausentes:\n",
        "\n",
        "df_data.isnull().sum().sort_values(ascending=False)"
      ],
      "execution_count": null,
      "outputs": [
        {
          "output_type": "execute_result",
          "data": {
            "text/plain": [
              "wind_speed      1894\n",
              "pressure          27\n",
              "max_temp          27\n",
              "min_temp          27\n",
              "atmo_opacity       0\n",
              "month              0\n",
              "ls                 0\n",
              "sol                0\n",
              "id                 0\n",
              "dtype: int64"
            ]
          },
          "metadata": {
            "tags": []
          },
          "execution_count": 10
        }
      ]
    },
    {
      "cell_type": "markdown",
      "metadata": {
        "id": "rRhzDv3jDXyB"
      },
      "source": [
        "Acima pudemos verificar que:\n",
        "\n",
        "* a coluna `wind_speed` é a que apresenta a maior quantidade de valores ausentes (1894);\n",
        "* as colunas `min_temp`, `max_temp` e `pressure` possuem 27 valores ausentes;\n",
        "* as demais colunas não possuem valores ausentes.\n",
        "\n",
        "Agora verificaremos o quanto percentualmente os valores ausentes representam nas colunas `min_temp`, `max_temp` e `pressure`:\n",
        "\n"
      ]
    },
    {
      "cell_type": "code",
      "metadata": {
        "id": "6itIQqkKEfKu",
        "colab": {
          "base_uri": "https://localhost:8080/"
        },
        "outputId": "c47b5fd0-935d-4f18-bf7a-4fb6429851c2"
      },
      "source": [
        "# verificando a porcentagem de valores ausentes nas colunas min_temp, max_temp e pressure:\n",
        "\n",
        "print (\"A porcentagem de valores ausentes da coluna wind_speed é:\", (df_data.wind_speed.isnull().sum() / df_data.shape[0]) * 100)\n",
        "print (\"A porcentagem de valores ausentes da coluna min_tem é:\", (df_data.min_temp.isnull().sum() / df_data.shape[0]) * 100)\n",
        "print (\"A porcentagem de valores ausentes da coluna max_temp é:\", (df_data.max_temp.isnull().sum() / df_data.shape[0]) * 100)\n",
        "print (\"A porcentagem de valores ausentes da coluna pressure é:\", (df_data.pressure.isnull().sum() / df_data.shape[0]) * 100)"
      ],
      "execution_count": null,
      "outputs": [
        {
          "output_type": "stream",
          "text": [
            "A porcentagem de valores ausentes da coluna wind_speed é: 100.0\n",
            "A porcentagem de valores ausentes da coluna min_tem é: 1.4255543822597676\n",
            "A porcentagem de valores ausentes da coluna max_temp é: 1.4255543822597676\n",
            "A porcentagem de valores ausentes da coluna pressure é: 1.4255543822597676\n"
          ],
          "name": "stdout"
        }
      ]
    },
    {
      "cell_type": "markdown",
      "metadata": {
        "id": "ZP1GJMmal2Kb"
      },
      "source": [
        "**O que fazer com os valores ausentes?**\n",
        "\n",
        "Quanto a coluna `wind_speed`, por ela ser composta 100% de valores ausentes, ela será excluída.\n",
        "\n",
        "Observamos acima que valores ausentes para as três colunas restantes, correspondem somente a 1,43% do total de dados de cada coluna.\n",
        "\n",
        "Por zelo e a fim de explorar os recursos em _Python_, não vamos simplesmente descartar essas linhas e sim preencher com a mediana encontrada de cada coluna."
      ]
    },
    {
      "cell_type": "code",
      "metadata": {
        "id": "a80IG4s7mxCV",
        "colab": {
          "base_uri": "https://localhost:8080/",
          "height": 235
        },
        "outputId": "4784f969-c46f-4601-f811-788ce0b8b8c9"
      },
      "source": [
        "# excluindo a coluna \"wind_speed\"\n",
        "mars = df_data.drop(axis=1, columns=\"wind_speed\")\n",
        "mars.tail()"
      ],
      "execution_count": null,
      "outputs": [
        {
          "output_type": "execute_result",
          "data": {
            "text/html": [
              "<div>\n",
              "<style scoped>\n",
              "    .dataframe tbody tr th:only-of-type {\n",
              "        vertical-align: middle;\n",
              "    }\n",
              "\n",
              "    .dataframe tbody tr th {\n",
              "        vertical-align: top;\n",
              "    }\n",
              "\n",
              "    .dataframe thead th {\n",
              "        text-align: right;\n",
              "    }\n",
              "</style>\n",
              "<table border=\"1\" class=\"dataframe\">\n",
              "  <thead>\n",
              "    <tr style=\"text-align: right;\">\n",
              "      <th></th>\n",
              "      <th>id</th>\n",
              "      <th>sol</th>\n",
              "      <th>ls</th>\n",
              "      <th>month</th>\n",
              "      <th>min_temp</th>\n",
              "      <th>max_temp</th>\n",
              "      <th>pressure</th>\n",
              "      <th>atmo_opacity</th>\n",
              "    </tr>\n",
              "    <tr>\n",
              "      <th>terrestrial_date</th>\n",
              "      <th></th>\n",
              "      <th></th>\n",
              "      <th></th>\n",
              "      <th></th>\n",
              "      <th></th>\n",
              "      <th></th>\n",
              "      <th></th>\n",
              "      <th></th>\n",
              "    </tr>\n",
              "  </thead>\n",
              "  <tbody>\n",
              "    <tr>\n",
              "      <th>2012-08-18</th>\n",
              "      <td>24</td>\n",
              "      <td>12</td>\n",
              "      <td>156</td>\n",
              "      <td>Month 6</td>\n",
              "      <td>-76.0</td>\n",
              "      <td>-18.0</td>\n",
              "      <td>741.0</td>\n",
              "      <td>Sunny</td>\n",
              "    </tr>\n",
              "    <tr>\n",
              "      <th>2012-08-17</th>\n",
              "      <td>13</td>\n",
              "      <td>11</td>\n",
              "      <td>156</td>\n",
              "      <td>Month 6</td>\n",
              "      <td>-76.0</td>\n",
              "      <td>-11.0</td>\n",
              "      <td>740.0</td>\n",
              "      <td>Sunny</td>\n",
              "    </tr>\n",
              "    <tr>\n",
              "      <th>2012-08-16</th>\n",
              "      <td>2</td>\n",
              "      <td>10</td>\n",
              "      <td>155</td>\n",
              "      <td>Month 6</td>\n",
              "      <td>-75.0</td>\n",
              "      <td>-16.0</td>\n",
              "      <td>739.0</td>\n",
              "      <td>Sunny</td>\n",
              "    </tr>\n",
              "    <tr>\n",
              "      <th>2012-08-15</th>\n",
              "      <td>232</td>\n",
              "      <td>9</td>\n",
              "      <td>155</td>\n",
              "      <td>Month 6</td>\n",
              "      <td>NaN</td>\n",
              "      <td>NaN</td>\n",
              "      <td>NaN</td>\n",
              "      <td>Sunny</td>\n",
              "    </tr>\n",
              "    <tr>\n",
              "      <th>2012-08-07</th>\n",
              "      <td>1</td>\n",
              "      <td>1</td>\n",
              "      <td>150</td>\n",
              "      <td>Month 6</td>\n",
              "      <td>NaN</td>\n",
              "      <td>NaN</td>\n",
              "      <td>NaN</td>\n",
              "      <td>Sunny</td>\n",
              "    </tr>\n",
              "  </tbody>\n",
              "</table>\n",
              "</div>"
            ],
            "text/plain": [
              "                   id  sol   ls  ... max_temp  pressure  atmo_opacity\n",
              "terrestrial_date                 ...                                 \n",
              "2012-08-18         24   12  156  ...    -18.0     741.0         Sunny\n",
              "2012-08-17         13   11  156  ...    -11.0     740.0         Sunny\n",
              "2012-08-16          2   10  155  ...    -16.0     739.0         Sunny\n",
              "2012-08-15        232    9  155  ...      NaN       NaN         Sunny\n",
              "2012-08-07          1    1  150  ...      NaN       NaN         Sunny\n",
              "\n",
              "[5 rows x 8 columns]"
            ]
          },
          "metadata": {
            "tags": []
          },
          "execution_count": 12
        }
      ]
    },
    {
      "cell_type": "code",
      "metadata": {
        "id": "lkAGexDAvrlO",
        "colab": {
          "base_uri": "https://localhost:8080/"
        },
        "outputId": "44c2ca79-a5ce-48e2-8ac9-608a04e76a30"
      },
      "source": [
        "# criando a variável que calcula a mediana da coluna min_temp\n",
        "min_temp_mediana = mars.min_temp.median()\n",
        "\n",
        "# atribuindo a mediana aos valores ausentes da coluna min_temp\n",
        "mars.min_temp.fillna(min_temp_mediana, inplace=True)\n",
        "\n",
        "# conferindo se na coluna min_temp ainda há valores ausentes\n",
        "mars.min_temp.isnull().sum()"
      ],
      "execution_count": null,
      "outputs": [
        {
          "output_type": "execute_result",
          "data": {
            "text/plain": [
              "0"
            ]
          },
          "metadata": {
            "tags": []
          },
          "execution_count": 13
        }
      ]
    },
    {
      "cell_type": "code",
      "metadata": {
        "colab": {
          "base_uri": "https://localhost:8080/"
        },
        "id": "NITrDTtNN5rp",
        "outputId": "e672bb2b-5cba-4492-90d6-452d77af35d2"
      },
      "source": [
        "# criando a variável que calcula a mediana da coluna max_temp:\n",
        "max_temp_mediana = mars.max_temp.median()\n",
        "\n",
        "# atribuindo a mediana aos valores ausentes da coluna max_temp:\n",
        "mars.max_temp.fillna(max_temp_mediana, inplace=True)\n",
        "\n",
        "# conferindo se na coluna max_temp ainda há valores ausentes:\n",
        "mars.max_temp.isnull().sum()"
      ],
      "execution_count": null,
      "outputs": [
        {
          "output_type": "execute_result",
          "data": {
            "text/plain": [
              "0"
            ]
          },
          "metadata": {
            "tags": []
          },
          "execution_count": 14
        }
      ]
    },
    {
      "cell_type": "code",
      "metadata": {
        "colab": {
          "base_uri": "https://localhost:8080/"
        },
        "id": "QPN753llOL1C",
        "outputId": "8c8d200d-68ca-4d4f-a7ca-3e29610a411c"
      },
      "source": [
        "# criando a variável que calcula a mediana da coluna pressure:\n",
        "pressure_mediana = mars.pressure.median()\n",
        "\n",
        "# atribuindo a mediana aos valores ausentes da coluna pressure:\n",
        "mars.pressure.fillna(pressure_mediana, inplace=True)\n",
        "\n",
        "# conferindo se na coluna pressure ainda há valores ausentes:\n",
        "mars.pressure.isnull().sum()"
      ],
      "execution_count": null,
      "outputs": [
        {
          "output_type": "execute_result",
          "data": {
            "text/plain": [
              "0"
            ]
          },
          "metadata": {
            "tags": []
          },
          "execution_count": 15
        }
      ]
    },
    {
      "cell_type": "markdown",
      "metadata": {
        "id": "9JnOaXemOtZ_"
      },
      "source": [
        "Dessa forma, identificadas as colunas contendo valores ausentes:\n",
        "\n",
        "1. A coluna `wind_speed` está excluída;\n",
        "2. As colunas `min_temp`, `max_temp` e `pressure` tiveram suas linhas com valores ausentes substituídas pela mediana de cada coluna."
      ]
    },
    {
      "cell_type": "code",
      "metadata": {
        "colab": {
          "base_uri": "https://localhost:8080/",
          "height": 235
        },
        "id": "ohAi5LeJPX8U",
        "outputId": "6c0ee56e-a518-464d-f7a2-d68d79ed53a2"
      },
      "source": [
        "# conferindo as últimas 5 linhas do novo dataframe\n",
        "mars.tail()"
      ],
      "execution_count": null,
      "outputs": [
        {
          "output_type": "execute_result",
          "data": {
            "text/html": [
              "<div>\n",
              "<style scoped>\n",
              "    .dataframe tbody tr th:only-of-type {\n",
              "        vertical-align: middle;\n",
              "    }\n",
              "\n",
              "    .dataframe tbody tr th {\n",
              "        vertical-align: top;\n",
              "    }\n",
              "\n",
              "    .dataframe thead th {\n",
              "        text-align: right;\n",
              "    }\n",
              "</style>\n",
              "<table border=\"1\" class=\"dataframe\">\n",
              "  <thead>\n",
              "    <tr style=\"text-align: right;\">\n",
              "      <th></th>\n",
              "      <th>id</th>\n",
              "      <th>sol</th>\n",
              "      <th>ls</th>\n",
              "      <th>month</th>\n",
              "      <th>min_temp</th>\n",
              "      <th>max_temp</th>\n",
              "      <th>pressure</th>\n",
              "      <th>atmo_opacity</th>\n",
              "    </tr>\n",
              "    <tr>\n",
              "      <th>terrestrial_date</th>\n",
              "      <th></th>\n",
              "      <th></th>\n",
              "      <th></th>\n",
              "      <th></th>\n",
              "      <th></th>\n",
              "      <th></th>\n",
              "      <th></th>\n",
              "      <th></th>\n",
              "    </tr>\n",
              "  </thead>\n",
              "  <tbody>\n",
              "    <tr>\n",
              "      <th>2012-08-18</th>\n",
              "      <td>24</td>\n",
              "      <td>12</td>\n",
              "      <td>156</td>\n",
              "      <td>Month 6</td>\n",
              "      <td>-76.0</td>\n",
              "      <td>-18.0</td>\n",
              "      <td>741.0</td>\n",
              "      <td>Sunny</td>\n",
              "    </tr>\n",
              "    <tr>\n",
              "      <th>2012-08-17</th>\n",
              "      <td>13</td>\n",
              "      <td>11</td>\n",
              "      <td>156</td>\n",
              "      <td>Month 6</td>\n",
              "      <td>-76.0</td>\n",
              "      <td>-11.0</td>\n",
              "      <td>740.0</td>\n",
              "      <td>Sunny</td>\n",
              "    </tr>\n",
              "    <tr>\n",
              "      <th>2012-08-16</th>\n",
              "      <td>2</td>\n",
              "      <td>10</td>\n",
              "      <td>155</td>\n",
              "      <td>Month 6</td>\n",
              "      <td>-75.0</td>\n",
              "      <td>-16.0</td>\n",
              "      <td>739.0</td>\n",
              "      <td>Sunny</td>\n",
              "    </tr>\n",
              "    <tr>\n",
              "      <th>2012-08-15</th>\n",
              "      <td>232</td>\n",
              "      <td>9</td>\n",
              "      <td>155</td>\n",
              "      <td>Month 6</td>\n",
              "      <td>-76.0</td>\n",
              "      <td>-11.0</td>\n",
              "      <td>853.0</td>\n",
              "      <td>Sunny</td>\n",
              "    </tr>\n",
              "    <tr>\n",
              "      <th>2012-08-07</th>\n",
              "      <td>1</td>\n",
              "      <td>1</td>\n",
              "      <td>150</td>\n",
              "      <td>Month 6</td>\n",
              "      <td>-76.0</td>\n",
              "      <td>-11.0</td>\n",
              "      <td>853.0</td>\n",
              "      <td>Sunny</td>\n",
              "    </tr>\n",
              "  </tbody>\n",
              "</table>\n",
              "</div>"
            ],
            "text/plain": [
              "                   id  sol   ls  ... max_temp  pressure  atmo_opacity\n",
              "terrestrial_date                 ...                                 \n",
              "2012-08-18         24   12  156  ...    -18.0     741.0         Sunny\n",
              "2012-08-17         13   11  156  ...    -11.0     740.0         Sunny\n",
              "2012-08-16          2   10  155  ...    -16.0     739.0         Sunny\n",
              "2012-08-15        232    9  155  ...    -11.0     853.0         Sunny\n",
              "2012-08-07          1    1  150  ...    -11.0     853.0         Sunny\n",
              "\n",
              "[5 rows x 8 columns]"
            ]
          },
          "metadata": {
            "tags": []
          },
          "execution_count": 16
        }
      ]
    },
    {
      "cell_type": "markdown",
      "metadata": {
        "id": "d1-VCqRDYCvs"
      },
      "source": [
        "# Análise Exploratória\n",
        "\n",
        "Nesta análise queremos acessar e visualizar os dados das colunas a respeito das temperaturas e da pressão atmosférica.\n",
        "\n",
        "Vamos observar as variáveis a partir de critérios estatísticos.\n",
        "\n",
        "Uma das maneiras mais simples de se iniciar uma análise exploratória das variáveis numéricas é utilizando o método `describe()`.\n",
        "\n",
        "Imediatamente você obtém um resumo contendo algumas das principais informações estatísticas relevantes:\n",
        "\n",
        "* **count** - quantidade de entradas válidas\n",
        "* **mean** - média dos valores\n",
        "* **std** - desvio padrão\n",
        "* **min** - menor valor da coluna\n",
        "* **25%** - percentil 25\n",
        "* **50%** - percentil 50 (e mediana)\n",
        "* **75%** - percentil 75\n",
        "* **max** - maior valor da coluna\n",
        "\n",
        "Nota de estudo: através deste comando, também é possível identificar colunas com valores ausentes e possíveis *outliers* (por exemplo, olhando o valor da mediana e comparando com valores máximos e mínimos)"
      ]
    },
    {
      "cell_type": "code",
      "metadata": {
        "id": "dyGxo0kZ7-wc",
        "colab": {
          "base_uri": "https://localhost:8080/",
          "height": 297
        },
        "outputId": "91a33606-9569-44e3-c8e4-4b8203375ea7"
      },
      "source": [
        "mars.describe()"
      ],
      "execution_count": null,
      "outputs": [
        {
          "output_type": "execute_result",
          "data": {
            "text/html": [
              "<div>\n",
              "<style scoped>\n",
              "    .dataframe tbody tr th:only-of-type {\n",
              "        vertical-align: middle;\n",
              "    }\n",
              "\n",
              "    .dataframe tbody tr th {\n",
              "        vertical-align: top;\n",
              "    }\n",
              "\n",
              "    .dataframe thead th {\n",
              "        text-align: right;\n",
              "    }\n",
              "</style>\n",
              "<table border=\"1\" class=\"dataframe\">\n",
              "  <thead>\n",
              "    <tr style=\"text-align: right;\">\n",
              "      <th></th>\n",
              "      <th>id</th>\n",
              "      <th>sol</th>\n",
              "      <th>ls</th>\n",
              "      <th>min_temp</th>\n",
              "      <th>max_temp</th>\n",
              "      <th>pressure</th>\n",
              "    </tr>\n",
              "  </thead>\n",
              "  <tbody>\n",
              "    <tr>\n",
              "      <th>count</th>\n",
              "      <td>1894.000000</td>\n",
              "      <td>1894.000000</td>\n",
              "      <td>1894.000000</td>\n",
              "      <td>1894.000000</td>\n",
              "      <td>1894.000000</td>\n",
              "      <td>1894.000000</td>\n",
              "    </tr>\n",
              "    <tr>\n",
              "      <th>mean</th>\n",
              "      <td>948.372228</td>\n",
              "      <td>1007.930306</td>\n",
              "      <td>169.180570</td>\n",
              "      <td>-76.119324</td>\n",
              "      <td>-12.488912</td>\n",
              "      <td>841.236536</td>\n",
              "    </tr>\n",
              "    <tr>\n",
              "      <th>std</th>\n",
              "      <td>547.088173</td>\n",
              "      <td>567.879561</td>\n",
              "      <td>105.738532</td>\n",
              "      <td>5.464723</td>\n",
              "      <td>10.624386</td>\n",
              "      <td>53.883510</td>\n",
              "    </tr>\n",
              "    <tr>\n",
              "      <th>min</th>\n",
              "      <td>1.000000</td>\n",
              "      <td>1.000000</td>\n",
              "      <td>0.000000</td>\n",
              "      <td>-90.000000</td>\n",
              "      <td>-35.000000</td>\n",
              "      <td>727.000000</td>\n",
              "    </tr>\n",
              "    <tr>\n",
              "      <th>25%</th>\n",
              "      <td>475.250000</td>\n",
              "      <td>532.250000</td>\n",
              "      <td>78.000000</td>\n",
              "      <td>-80.000000</td>\n",
              "      <td>-23.000000</td>\n",
              "      <td>802.000000</td>\n",
              "    </tr>\n",
              "    <tr>\n",
              "      <th>50%</th>\n",
              "      <td>948.500000</td>\n",
              "      <td>1016.500000</td>\n",
              "      <td>160.000000</td>\n",
              "      <td>-76.000000</td>\n",
              "      <td>-11.000000</td>\n",
              "      <td>853.000000</td>\n",
              "    </tr>\n",
              "    <tr>\n",
              "      <th>75%</th>\n",
              "      <td>1421.750000</td>\n",
              "      <td>1501.750000</td>\n",
              "      <td>259.000000</td>\n",
              "      <td>-72.000000</td>\n",
              "      <td>-3.000000</td>\n",
              "      <td>883.000000</td>\n",
              "    </tr>\n",
              "    <tr>\n",
              "      <th>max</th>\n",
              "      <td>1895.000000</td>\n",
              "      <td>1977.000000</td>\n",
              "      <td>359.000000</td>\n",
              "      <td>-62.000000</td>\n",
              "      <td>11.000000</td>\n",
              "      <td>925.000000</td>\n",
              "    </tr>\n",
              "  </tbody>\n",
              "</table>\n",
              "</div>"
            ],
            "text/plain": [
              "                id          sol  ...     max_temp     pressure\n",
              "count  1894.000000  1894.000000  ...  1894.000000  1894.000000\n",
              "mean    948.372228  1007.930306  ...   -12.488912   841.236536\n",
              "std     547.088173   567.879561  ...    10.624386    53.883510\n",
              "min       1.000000     1.000000  ...   -35.000000   727.000000\n",
              "25%     475.250000   532.250000  ...   -23.000000   802.000000\n",
              "50%     948.500000  1016.500000  ...   -11.000000   853.000000\n",
              "75%    1421.750000  1501.750000  ...    -3.000000   883.000000\n",
              "max    1895.000000  1977.000000  ...    11.000000   925.000000\n",
              "\n",
              "[8 rows x 6 columns]"
            ]
          },
          "metadata": {
            "tags": []
          },
          "execution_count": 18
        }
      ]
    },
    {
      "cell_type": "markdown",
      "metadata": {
        "id": "mSX6XVX3Lvch"
      },
      "source": [
        "Aqui quero chamar atenção para alguns dados que já \"nos saltam aos olhos\" (principalmente se comparamos com as condições na Terra):\n",
        "\n",
        "1. a variável `max_temp` possui 75% dos seus valores abaixo de -3ºC.\n",
        "2. a menor temperatura registrada (variável `min_temp`) foi de -90ºC;\n",
        "3. a pressão média registrada (variável `pressure`) é de cerca de 841 Pa (para termos mais proporção deste dado, na Terra ao nível do mar a pressão média é de 101,325 KPa).\n",
        "\n"
      ]
    },
    {
      "cell_type": "markdown",
      "metadata": {
        "id": "5uORm18pT1t0"
      },
      "source": [
        "Observação: para as colunas `id`, `sol`e `ls` não faz sentido a análise estatística. E sim para as colunas referentes a temperatura e pressão.\n",
        "\n",
        "Histogramas são poderosas ferramentas para visualização dos dados, nos mostrando a distribuição dos valores em uma variável.\n"
      ]
    },
    {
      "cell_type": "code",
      "metadata": {
        "id": "CxH-Culm9Vwi"
      },
      "source": [
        "# Analisando o histograma da temperatura mínima:\n",
        "\n",
        "#fig, ax = plt.subplots()\n",
        "\n",
        "#mars.min_temp.hist();"
      ],
      "execution_count": null,
      "outputs": []
    },
    {
      "cell_type": "code",
      "metadata": {
        "colab": {
          "base_uri": "https://localhost:8080/",
          "height": 879
        },
        "id": "52FwnRyAWMek",
        "outputId": "1aa4ae85-bc2e-4a95-bb64-4662e78a6a9c"
      },
      "source": [
        "# Histogramas de todas as variáveis:\n",
        "\n",
        "mars.hist(bins=20, figsize=(20,15));"
      ],
      "execution_count": null,
      "outputs": [
        {
          "output_type": "display_data",
          "data": {
            "image/png": "[encoded data removed]",
            "text/plain": [
              "<Figure size 1440x1080 with 6 Axes>"
            ]
          },
          "metadata": {
            "tags": [],
            "needs_background": "light"
          }
        }
      ]
    },
    {
      "cell_type": "code",
      "metadata": {
        "colab": {
          "base_uri": "https://localhost:8080/",
          "height": 270
        },
        "id": "OH_OBg3jVG5W",
        "outputId": "7a76eeba-38a1-4161-8da9-4686d4144206"
      },
      "source": [
        "# plotar gráfico de linhas para min_temp e max_temp:\n",
        "mars.min_temp.plot();\n",
        "mars.max_temp.plot();"
      ],
      "execution_count": null,
      "outputs": [
        {
          "output_type": "display_data",
          "data": {
            "image/png": "[encoded data removed]",
            "text/plain": [
              "<Figure size 432x288 with 1 Axes>"
            ]
          },
          "metadata": {
            "tags": [],
            "needs_background": "light"
          }
        }
      ]
    },
    {
      "cell_type": "code",
      "metadata": {
        "colab": {
          "base_uri": "https://localhost:8080/"
        },
        "id": "0S7DWcdqYHtI",
        "outputId": "2c7c4ffe-45f4-43d1-9dcd-e40ae967e780"
      },
      "source": [
        "# Temperatura média ao dia (calculada entre as temperaturas mínimas e máximas):\n",
        "\n",
        "mars['average_temp'] = mars[['min_temp', 'max_temp']].mean(axis=1)\n",
        "\n",
        "print (mars.average_temp)"
      ],
      "execution_count": null,
      "outputs": [
        {
          "output_type": "stream",
          "text": [
            "terrestrial_date\n",
            "2018-02-27   -43.5\n",
            "2018-02-26   -43.5\n",
            "2018-02-25   -46.0\n",
            "2018-02-24   -45.0\n",
            "2018-02-23   -48.0\n",
            "              ... \n",
            "2012-08-18   -47.0\n",
            "2012-08-17   -43.5\n",
            "2012-08-16   -45.5\n",
            "2012-08-15   -43.5\n",
            "2012-08-07   -43.5\n",
            "Name: average_temp, Length: 1894, dtype: float64\n"
          ],
          "name": "stdout"
        }
      ]
    },
    {
      "cell_type": "code",
      "metadata": {
        "colab": {
          "base_uri": "https://localhost:8080/"
        },
        "id": "kG1eK6PAB8Nl",
        "outputId": "31f1388d-bc04-4c5b-9fd8-d7605f7a4d9f"
      },
      "source": [
        "# Calculando a média (de todo período)\n",
        "\n",
        "print (\"A média de temperatura é:\", mars.average_temp.mean())\n",
        "\n",
        "# Mediana (de todo período)\n",
        "\n",
        "print (\"A mediana das temperaturas é:\", mars.average_temp.median())\n",
        "\n",
        "# Desvio Padrão (de todo período)\n",
        "\n",
        "print (\"O desvio padrão é de:\", mars.average_temp.std())"
      ],
      "execution_count": null,
      "outputs": [
        {
          "output_type": "stream",
          "text": [
            "A média de temperatura é: -44.30411826821542\n",
            "A mediana das temperaturas é: -43.5\n",
            "O desvio padrão é de: 7.7180686143982875\n"
          ],
          "name": "stdout"
        }
      ]
    },
    {
      "cell_type": "code",
      "metadata": {
        "colab": {
          "base_uri": "https://localhost:8080/",
          "height": 287
        },
        "id": "ujj8chY-Ymht",
        "outputId": "1ae4a03f-9e5d-4f6c-8693-019a8c264af9"
      },
      "source": [
        "# Plotando a média das temperaturas:\n",
        "\n",
        "mars.average_temp.plot()"
      ],
      "execution_count": null,
      "outputs": [
        {
          "output_type": "execute_result",
          "data": {
            "text/plain": [
              "<matplotlib.axes._subplots.AxesSubplot at 0x7fe280b73110>"
            ]
          },
          "metadata": {
            "tags": []
          },
          "execution_count": 24
        },
        {
          "output_type": "display_data",
          "data": {
            "image/png": "[encoded data removed]",
            "text/plain": [
              "<Figure size 432x288 with 1 Axes>"
            ]
          },
          "metadata": {
            "tags": [],
            "needs_background": "light"
          }
        }
      ]
    },
    {
      "cell_type": "code",
      "metadata": {
        "colab": {
          "base_uri": "https://localhost:8080/"
        },
        "id": "4RHcbrh1FJqo",
        "outputId": "eb1df230-cfb5-4b09-97ca-b44bba36a6df"
      },
      "source": [
        "# Calculando a média da pressão:\n",
        "\n",
        "print (\"A média da pressão atmosférica é:\", mars.pressure.mean())\n",
        "\n",
        "# Mediana:\n",
        "\n",
        "print (\"A mediana da pressão atmosférica é:\", mars.pressure.median())\n",
        "\n",
        "# Desvio Padrão\n",
        "\n",
        "print (\"O desvio padrão é de:\", mars.pressure.std())"
      ],
      "execution_count": null,
      "outputs": [
        {
          "output_type": "stream",
          "text": [
            "A média da pressão atmosférica é: 841.2365364308342\n",
            "A mediana da pressão atmosférica é: 853.0\n",
            "O desvio padrão é de: 53.88351012441117\n"
          ],
          "name": "stdout"
        }
      ]
    },
    {
      "cell_type": "code",
      "metadata": {
        "colab": {
          "base_uri": "https://localhost:8080/",
          "height": 270
        },
        "id": "rEeAGdusXgBs",
        "outputId": "86db5896-25da-42a0-db77-90b83bb39a31"
      },
      "source": [
        "# plotar gráfico de linhas para pressão atmosférica:\n",
        "\n",
        "mars.pressure.plot();"
      ],
      "execution_count": null,
      "outputs": [
        {
          "output_type": "display_data",
          "data": {
            "image/png": "[encoded data removed]",
            "text/plain": [
              "<Figure size 432x288 with 1 Axes>"
            ]
          },
          "metadata": {
            "tags": [],
            "needs_background": "light"
          }
        }
      ]
    },
    {
      "cell_type": "markdown",
      "metadata": {
        "id": "s8Fl6UdZZCxa"
      },
      "source": [
        "Agora vamos nos deter na coluna `atmo_opacity`. Nela é indicada a condição metereológica observada pelo _Rover Curiosity_ na região onde ele se encontra.\n",
        "Aqui cabe destacar que ainda pesquiso o método de definição que os cientistas do projeto adotam para a classificação.\n",
        "\n",
        "Observando as primeiras e as últimas linhas, vimos que neste campo pode estar indicada, por exemplo, a descrição _Sunny_ (ensolarado). Porém queremos agora conferir as informações de todas as linhas desta coluna."
      ]
    },
    {
      "cell_type": "code",
      "metadata": {
        "id": "D5b2tHnDfpoP",
        "colab": {
          "base_uri": "https://localhost:8080/"
        },
        "outputId": "ac49f4cc-f9f8-4411-a390-3930face0abc"
      },
      "source": [
        "# conferindo as informações únicas existentes na coluna \"atmo_opacity\"\n",
        "mars.atmo_opacity.unique()"
      ],
      "execution_count": null,
      "outputs": [
        {
          "output_type": "execute_result",
          "data": {
            "text/plain": [
              "array(['Sunny', '--'], dtype=object)"
            ]
          },
          "metadata": {
            "tags": []
          },
          "execution_count": 27
        }
      ]
    },
    {
      "cell_type": "markdown",
      "metadata": {
        "id": "3IMgUMJwae_J"
      },
      "source": [
        "Verificamos então que, nesta coluna deste _dataset_, aparecem duas possibilidades de descrição: `sunny` e `--`.\n",
        "Na fonte deste _dataset_ não foi especificado o significado de `--`. Portanto, interpretamos que são dados que, por algum motivo, não foram capturados/transmitidos/registrados e não receberam a mesma indicação dos valores ausentes (como nas outras colunas, com `NaN`).\n",
        "\n",
        "De qualquer forma, este fato - que na análise dos valores ausentes não foi identificado - agora deve ser observado para saber se compromete ou não o nosso conhecimento dos dados metereológicos na região em que o _Rover Curiosity_ está (cratera Gale)."
      ]
    },
    {
      "cell_type": "code",
      "metadata": {
        "id": "NZSS-OqYf3dq",
        "colab": {
          "base_uri": "https://localhost:8080/"
        },
        "outputId": "19fe238c-442d-4559-828c-1092a3dc6431"
      },
      "source": [
        "# quantificando os dados na coluna atmo.opacity\n",
        "mars.atmo_opacity.value_counts()"
      ],
      "execution_count": null,
      "outputs": [
        {
          "output_type": "execute_result",
          "data": {
            "text/plain": [
              "Sunny    1891\n",
              "--          3\n",
              "Name: atmo_opacity, dtype: int64"
            ]
          },
          "metadata": {
            "tags": []
          },
          "execution_count": 28
        }
      ]
    },
    {
      "cell_type": "code",
      "metadata": {
        "id": "gcmAU8XOhlzB",
        "colab": {
          "base_uri": "https://localhost:8080/"
        },
        "outputId": "64431f15-1398-4f47-fbaf-8195f6e654ac"
      },
      "source": [
        "# percentual dos dados coletados na coluna atmo_opacity\n",
        "mars.atmo_opacity.value_counts() / mars.shape[0]"
      ],
      "execution_count": null,
      "outputs": [
        {
          "output_type": "execute_result",
          "data": {
            "text/plain": [
              "Sunny    0.998416\n",
              "--       0.001584\n",
              "Name: atmo_opacity, dtype: float64"
            ]
          },
          "metadata": {
            "tags": []
          },
          "execution_count": 29
        }
      ]
    },
    {
      "cell_type": "markdown",
      "metadata": {
        "id": "HTCxzibndPcG"
      },
      "source": [
        "Assim, sabe-se que a ausência deste dado na coluna `atmo_opacity` não chega a 1%.\n",
        "E a ocorrência da condição metereológica `Sunny` é de 99,84% (especificamente neste banco de dados)."
      ]
    },
    {
      "cell_type": "markdown",
      "metadata": {
        "id": "D1QBtTsRd99U"
      },
      "source": [
        "Por curiosidade (sem trocadilho com o nome do _rover_), vamos verificar quais linhas aparecem sem preenchimento na coluna `atmo_opacity`."
      ]
    },
    {
      "cell_type": "code",
      "metadata": {
        "id": "bgn6Z-UsgYEy",
        "colab": {
          "base_uri": "https://localhost:8080/"
        },
        "outputId": "480884c3-0fb8-46b4-90c3-aa013b78236a"
      },
      "source": [
        "mars.loc[mars.atmo_opacity == '--'].index"
      ],
      "execution_count": null,
      "outputs": [
        {
          "output_type": "execute_result",
          "data": {
            "text/plain": [
              "DatetimeIndex(['2015-04-16', '2015-03-28', '2015-01-27'], dtype='datetime64[ns]', name='terrestrial_date', freq=None)"
            ]
          },
          "metadata": {
            "tags": []
          },
          "execution_count": 30
        }
      ]
    },
    {
      "cell_type": "markdown",
      "metadata": {
        "id": "XA4U5A8mHP-0"
      },
      "source": [
        "Assim, rastreamos dentro do _dataset_ em quais datas não há registro de `atmo_opacity` para ver se encontramos alguma especificidade."
      ]
    },
    {
      "cell_type": "code",
      "metadata": {
        "colab": {
          "base_uri": "https://localhost:8080/",
          "height": 111
        },
        "id": "kOdwifAfHwE1",
        "outputId": "19eb2209-e702-4429-9515-78f31aaaac7c"
      },
      "source": [
        "mars['2015-04-16']"
      ],
      "execution_count": null,
      "outputs": [
        {
          "output_type": "execute_result",
          "data": {
            "text/html": [
              "<div>\n",
              "<style scoped>\n",
              "    .dataframe tbody tr th:only-of-type {\n",
              "        vertical-align: middle;\n",
              "    }\n",
              "\n",
              "    .dataframe tbody tr th {\n",
              "        vertical-align: top;\n",
              "    }\n",
              "\n",
              "    .dataframe thead th {\n",
              "        text-align: right;\n",
              "    }\n",
              "</style>\n",
              "<table border=\"1\" class=\"dataframe\">\n",
              "  <thead>\n",
              "    <tr style=\"text-align: right;\">\n",
              "      <th></th>\n",
              "      <th>id</th>\n",
              "      <th>sol</th>\n",
              "      <th>ls</th>\n",
              "      <th>month</th>\n",
              "      <th>min_temp</th>\n",
              "      <th>max_temp</th>\n",
              "      <th>pressure</th>\n",
              "      <th>atmo_opacity</th>\n",
              "      <th>average_temp</th>\n",
              "    </tr>\n",
              "    <tr>\n",
              "      <th>terrestrial_date</th>\n",
              "      <th></th>\n",
              "      <th></th>\n",
              "      <th></th>\n",
              "      <th></th>\n",
              "      <th></th>\n",
              "      <th></th>\n",
              "      <th></th>\n",
              "      <th></th>\n",
              "      <th></th>\n",
              "    </tr>\n",
              "  </thead>\n",
              "  <tbody>\n",
              "    <tr>\n",
              "      <th>2015-04-16</th>\n",
              "      <td>890</td>\n",
              "      <td>957</td>\n",
              "      <td>326</td>\n",
              "      <td>Month 11</td>\n",
              "      <td>-76.0</td>\n",
              "      <td>-11.0</td>\n",
              "      <td>853.0</td>\n",
              "      <td>--</td>\n",
              "      <td>-43.5</td>\n",
              "    </tr>\n",
              "  </tbody>\n",
              "</table>\n",
              "</div>"
            ],
            "text/plain": [
              "                   id  sol   ls  ... pressure  atmo_opacity  average_temp\n",
              "terrestrial_date                 ...                                     \n",
              "2015-04-16        890  957  326  ...    853.0            --         -43.5\n",
              "\n",
              "[1 rows x 9 columns]"
            ]
          },
          "metadata": {
            "tags": []
          },
          "execution_count": 31
        }
      ]
    },
    {
      "cell_type": "code",
      "metadata": {
        "colab": {
          "base_uri": "https://localhost:8080/",
          "height": 111
        },
        "id": "ixJMdrP2IInn",
        "outputId": "d80b8179-2e29-4725-d5fd-52247c2d6c7d"
      },
      "source": [
        "mars['2015-03-28']"
      ],
      "execution_count": null,
      "outputs": [
        {
          "output_type": "execute_result",
          "data": {
            "text/html": [
              "<div>\n",
              "<style scoped>\n",
              "    .dataframe tbody tr th:only-of-type {\n",
              "        vertical-align: middle;\n",
              "    }\n",
              "\n",
              "    .dataframe tbody tr th {\n",
              "        vertical-align: top;\n",
              "    }\n",
              "\n",
              "    .dataframe thead th {\n",
              "        text-align: right;\n",
              "    }\n",
              "</style>\n",
              "<table border=\"1\" class=\"dataframe\">\n",
              "  <thead>\n",
              "    <tr style=\"text-align: right;\">\n",
              "      <th></th>\n",
              "      <th>id</th>\n",
              "      <th>sol</th>\n",
              "      <th>ls</th>\n",
              "      <th>month</th>\n",
              "      <th>min_temp</th>\n",
              "      <th>max_temp</th>\n",
              "      <th>pressure</th>\n",
              "      <th>atmo_opacity</th>\n",
              "      <th>average_temp</th>\n",
              "    </tr>\n",
              "    <tr>\n",
              "      <th>terrestrial_date</th>\n",
              "      <th></th>\n",
              "      <th></th>\n",
              "      <th></th>\n",
              "      <th></th>\n",
              "      <th></th>\n",
              "      <th></th>\n",
              "      <th></th>\n",
              "      <th></th>\n",
              "      <th></th>\n",
              "    </tr>\n",
              "  </thead>\n",
              "  <tbody>\n",
              "    <tr>\n",
              "      <th>2015-03-28</th>\n",
              "      <td>873</td>\n",
              "      <td>939</td>\n",
              "      <td>316</td>\n",
              "      <td>Month 11</td>\n",
              "      <td>-76.0</td>\n",
              "      <td>-11.0</td>\n",
              "      <td>853.0</td>\n",
              "      <td>--</td>\n",
              "      <td>-43.5</td>\n",
              "    </tr>\n",
              "  </tbody>\n",
              "</table>\n",
              "</div>"
            ],
            "text/plain": [
              "                   id  sol   ls  ... pressure  atmo_opacity  average_temp\n",
              "terrestrial_date                 ...                                     \n",
              "2015-03-28        873  939  316  ...    853.0            --         -43.5\n",
              "\n",
              "[1 rows x 9 columns]"
            ]
          },
          "metadata": {
            "tags": []
          },
          "execution_count": 32
        }
      ]
    },
    {
      "cell_type": "code",
      "metadata": {
        "colab": {
          "base_uri": "https://localhost:8080/",
          "height": 111
        },
        "id": "GytzfouvIQVW",
        "outputId": "0087f4be-4755-4360-a42a-80264f08524d"
      },
      "source": [
        "mars['2015-01-27']"
      ],
      "execution_count": null,
      "outputs": [
        {
          "output_type": "execute_result",
          "data": {
            "text/html": [
              "<div>\n",
              "<style scoped>\n",
              "    .dataframe tbody tr th:only-of-type {\n",
              "        vertical-align: middle;\n",
              "    }\n",
              "\n",
              "    .dataframe tbody tr th {\n",
              "        vertical-align: top;\n",
              "    }\n",
              "\n",
              "    .dataframe thead th {\n",
              "        text-align: right;\n",
              "    }\n",
              "</style>\n",
              "<table border=\"1\" class=\"dataframe\">\n",
              "  <thead>\n",
              "    <tr style=\"text-align: right;\">\n",
              "      <th></th>\n",
              "      <th>id</th>\n",
              "      <th>sol</th>\n",
              "      <th>ls</th>\n",
              "      <th>month</th>\n",
              "      <th>min_temp</th>\n",
              "      <th>max_temp</th>\n",
              "      <th>pressure</th>\n",
              "      <th>atmo_opacity</th>\n",
              "      <th>average_temp</th>\n",
              "    </tr>\n",
              "    <tr>\n",
              "      <th>terrestrial_date</th>\n",
              "      <th></th>\n",
              "      <th></th>\n",
              "      <th></th>\n",
              "      <th></th>\n",
              "      <th></th>\n",
              "      <th></th>\n",
              "      <th></th>\n",
              "      <th></th>\n",
              "      <th></th>\n",
              "    </tr>\n",
              "  </thead>\n",
              "  <tbody>\n",
              "    <tr>\n",
              "      <th>2015-01-27</th>\n",
              "      <td>816</td>\n",
              "      <td>880</td>\n",
              "      <td>279</td>\n",
              "      <td>Month 10</td>\n",
              "      <td>-76.0</td>\n",
              "      <td>-11.0</td>\n",
              "      <td>853.0</td>\n",
              "      <td>--</td>\n",
              "      <td>-43.5</td>\n",
              "    </tr>\n",
              "  </tbody>\n",
              "</table>\n",
              "</div>"
            ],
            "text/plain": [
              "                   id  sol   ls  ... pressure  atmo_opacity  average_temp\n",
              "terrestrial_date                 ...                                     \n",
              "2015-01-27        816  880  279  ...    853.0            --         -43.5\n",
              "\n",
              "[1 rows x 9 columns]"
            ]
          },
          "metadata": {
            "tags": []
          },
          "execution_count": 33
        }
      ]
    },
    {
      "cell_type": "markdown",
      "metadata": {
        "id": "zeYY3pfPI9Wn"
      },
      "source": [
        "Em uma primeira análise, não identifico algo específico que possa ser relacionado a ausência da descrição das condições metereológicas em Marte nestas datas."
      ]
    },
    {
      "cell_type": "markdown",
      "metadata": {
        "id": "UVOYsHAiJZsf"
      },
      "source": [
        "# Conclusão"
      ]
    },
    {
      "cell_type": "markdown",
      "metadata": {
        "id": "anEranduJb07"
      },
      "source": [
        "A partir do _dataset_ disponível, pudemos:\n",
        "\n",
        "1. conhecer as variáveis que o instrumento _REMS_ do _rover Curiosity_ mede;\n",
        "2. realizar a limpeza de dados para em seguida realizar uma análise exploratória dos dados;\n",
        "3. Visualizamos os dados no formato histograma e como gráfico de linhas;\n",
        "4. Extraímos e calculamos:\n",
        "\n",
        "* a menor temperatura encontrada pelo _rover Curiosity_ foi de -90ºC;\n",
        "* a maior temperatura registrada foi de 11ºC;\n",
        "* a temperatura média do período foi de -44,3ºC com mediana de -43,5ºC e desvio padrão de +/- 7,72;\n",
        "* a pressão média registrada na cratera Jezero foi de aproximadamente 841 Pa, mediana de 853 Pa e desvio padrão de +/- 53,88.\n",
        "\n",
        "\n",
        "\n",
        "\n"
      ]
    },
    {
      "cell_type": "markdown",
      "metadata": {
        "id": "2_w7kdk9P-7s"
      },
      "source": [
        "Plotando o gráfico de linhas das temperaturas (mínima e máxima), também é possível verificar um ciclo (padrão) no comportamento das altas e baixas ao longo do tempo (conforme abaixo), quando o pico se dá no intervalo aproximado de 2 anos."
      ]
    },
    {
      "cell_type": "code",
      "metadata": {
        "colab": {
          "base_uri": "https://localhost:8080/",
          "height": 270
        },
        "id": "0zyDkox-QMY4",
        "outputId": "e7effb61-f0f6-4970-80db-e816398bd9c8"
      },
      "source": [
        "mars.min_temp.plot();\n",
        "mars.max_temp.plot();"
      ],
      "execution_count": null,
      "outputs": [
        {
          "output_type": "display_data",
          "data": {
            "image/png": "[encoded data removed]",
            "text/plain": [
              "<Figure size 432x288 with 1 Axes>"
            ]
          },
          "metadata": {
            "tags": [],
            "needs_background": "light"
          }
        }
      ]
    },
    {
      "cell_type": "markdown",
      "metadata": {
        "id": "5d93xOn00i74"
      },
      "source": [
        "# Referências\n",
        "\n",
        "* Lakdawalla E. \"The Design and Engineering of Curiosity - How The Mars Rover Perform Its Job\". Springer Praxis Book: 2018;\n",
        "* Manning R., SIMON, W. \"Mars Rover Curiosity - An Inside Account from Curiosity's Chief Engineer\". Smithsonian Books: 2014.\n",
        "* Martínez G et al (2016) Likely frost events at Gale crater: Analysis from MSL/REMS measurements. Icarus 280:93–102.\n",
        "* Rafkin S C R et al (2016) The meteorology of Gale Crater as determined from Rover Environmental Monitoring Station observations and numerical modeling. Part II: Interpretation. Icarus 180:114–138.\n",
        "* Vasavada A et al (2017) Thermophysical properties along Curiosity’s traverse in Gale crater, Mars, derived from the REMS ground temperature sensor. Icarus 284:372–386."
      ]
    },
    {
      "cell_type": "markdown",
      "metadata": {
        "id": "kp8LAj5qTI5e"
      },
      "source": [
        "Recentemente, ao finalizar este _notebook_, encontrei através das pesquisas este interessante _notebook_ com os dados de diversas missões da NASA na exploração de Marte (incluindo a missão ao qual o _Curiosity_ pertence: _MSL_): \n",
        "\n",
        "https://an.rsl.wustl.edu/msl/mslbrowser/an3.aspx?AspxAutoDetectCookieSupport=1"
      ]
    },
    {
      "cell_type": "markdown",
      "metadata": {
        "id": "_ukC-ZhOZ6D9"
      },
      "source": [
        "# Agradecimento\n",
        "\n",
        "Deixo aqui registrada minha gratidão, através deste projeto, ao cientista Ivair Gontijo que, através de seu livro \"_A Caminho de Marte_\", me estimulou quanto ao tema e principalmente quanto a humildade perante todos os desafios que temos na vida neste universo que ainda procuramos entender.\n",
        "E claro: recomendar a leitura do seu excelente livro!"
      ]
    },
    {
      "cell_type": "markdown",
      "metadata": {
        "id": "xeA6ZcXuhZBZ"
      },
      "source": [
        "<p align=\"center\"><img src=\"https://raw.githubusercontent.com/pbetschart/portfoliopbetschart/master/Helvetia-Go.png\" height=\"150px\"></p>"
      ]
    }
  ]
}